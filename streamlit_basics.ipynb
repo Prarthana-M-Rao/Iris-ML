{
  "nbformat": 4,
  "nbformat_minor": 0,
  "metadata": {
    "colab": {
      "name": "streamlit basics.ipynb",
      "provenance": [],
      "toc_visible": true,
      "authorship_tag": "ABX9TyMK74FAedy60fyMnGgFOFHn",
      "include_colab_link": true
    },
    "kernelspec": {
      "name": "python3",
      "display_name": "Python 3"
    },
    "language_info": {
      "name": "python"
    }
  },
  "cells": [
    {
      "cell_type": "markdown",
      "metadata": {
        "id": "view-in-github",
        "colab_type": "text"
      },
      "source": [
        "<a href=\"https://colab.research.google.com/github/Prarthana-M-Rao/Iris-ML/blob/main/streamlit_basics.ipynb\" target=\"_parent\"><img src=\"https://colab.research.google.com/assets/colab-badge.svg\" alt=\"Open In Colab\"/></a>"
      ]
    },
    {
      "cell_type": "code",
      "metadata": {
        "colab": {
          "base_uri": "https://localhost:8080/"
        },
        "id": "N-SKludAqd4h",
        "outputId": "732db04b-8222-4612-83c6-a59999059f3a"
      },
      "source": [
        "!pip install streamlit --quiet\n",
        "!pip install pyngrok==4.1.1 --quiet\n",
        "from pyngrok import ngrok"
      ],
      "execution_count": 1,
      "outputs": [
        {
          "output_type": "stream",
          "name": "stdout",
          "text": [
            "\u001b[K     |████████████████████████████████| 9.1 MB 13.8 MB/s \n",
            "\u001b[K     |████████████████████████████████| 76 kB 4.9 MB/s \n",
            "\u001b[K     |████████████████████████████████| 4.3 MB 65.3 MB/s \n",
            "\u001b[K     |████████████████████████████████| 111 kB 74.0 MB/s \n",
            "\u001b[K     |████████████████████████████████| 180 kB 66.7 MB/s \n",
            "\u001b[K     |████████████████████████████████| 178 kB 91.2 MB/s \n",
            "\u001b[K     |████████████████████████████████| 63 kB 1.7 MB/s \n",
            "\u001b[K     |████████████████████████████████| 125 kB 74.3 MB/s \n",
            "\u001b[K     |████████████████████████████████| 791 kB 94.7 MB/s \n",
            "\u001b[K     |████████████████████████████████| 374 kB 67.7 MB/s \n",
            "\u001b[?25h  Building wheel for pympler (setup.py) ... \u001b[?25l\u001b[?25hdone\n",
            "  Building wheel for blinker (setup.py) ... \u001b[?25l\u001b[?25hdone\n",
            "\u001b[31mERROR: pip's dependency resolver does not currently take into account all the packages that are installed. This behaviour is the source of the following dependency conflicts.\n",
            "jupyter-console 5.2.0 requires prompt-toolkit<2.0.0,>=1.0.0, but you have prompt-toolkit 3.0.23 which is incompatible.\n",
            "google-colab 1.0.0 requires ipykernel~=4.10, but you have ipykernel 6.5.1 which is incompatible.\n",
            "google-colab 1.0.0 requires ipython~=5.5.0, but you have ipython 7.30.0 which is incompatible.\u001b[0m\n",
            "  Building wheel for pyngrok (setup.py) ... \u001b[?25l\u001b[?25hdone\n"
          ]
        }
      ]
    },
    {
      "cell_type": "code",
      "metadata": {
        "colab": {
          "base_uri": "https://localhost:8080/"
        },
        "id": "ZfLt91kHrFWg",
        "outputId": "490fe756-eae7-41c3-9865-84bfff6b401c"
      },
      "source": [
        "%%writefile app.py\n",
        "import streamlit as st\n",
        "st.title('Iris Machine Learning')\n",
        "from sklearn.datasets import load_iris\n",
        "iris = load_iris()\n",
        "from sklearn.tree import DecisionTreeClassifier\n",
        "model = DecisionTreeClassifier()\n",
        "model.fit(iris.data,iris.target)#Training the model\n",
        "sl =st.slider('Sepal Length',4.3,7.9,5.0)\n",
        "sw =st.slider('Sepal Width',2.0,4.4,3.0)\n",
        "pl =st.slider('Petal Length',1.0,6.9,5.0)\n",
        "pw =st.slider('Petal Width',0.1,2.5,3.0)\n",
        "op = model.predict([[6.3,3.4,5.6,2.4]])\n",
        "res = iris.target_names[op[0]]\n",
        "st.title(res.upper())\n"
      ],
      "execution_count": 4,
      "outputs": [
        {
          "output_type": "stream",
          "name": "stdout",
          "text": [
            "Overwriting app.py\n"
          ]
        }
      ]
    },
    {
      "cell_type": "code",
      "metadata": {
        "colab": {
          "base_uri": "https://localhost:8080/"
        },
        "id": "e2KUuXMjrFv7",
        "outputId": "4a37dc1f-381b-4b27-8122-5b8aa79ccad0"
      },
      "source": [
        "!nohup streamlit run app.py &\n",
        "url = ngrok.connect(port = '8501')\n",
        "print(url)"
      ],
      "execution_count": 3,
      "outputs": [
        {
          "output_type": "stream",
          "name": "stdout",
          "text": [
            "nohup: appending output to 'nohup.out'\n",
            "http://4a5f-34-90-216-167.ngrok.io\n"
          ]
        }
      ]
    },
    {
      "cell_type": "code",
      "metadata": {
        "id": "2thA1eBprUn6"
      },
      "source": [
        ""
      ],
      "execution_count": 3,
      "outputs": []
    }
  ]
}